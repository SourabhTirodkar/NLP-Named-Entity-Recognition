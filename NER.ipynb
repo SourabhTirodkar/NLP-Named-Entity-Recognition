{
  "nbformat": 4,
  "nbformat_minor": 0,
  "metadata": {
    "colab": {
      "name": "NER.ipynb",
      "provenance": [],
      "collapsed_sections": []
    },
    "kernelspec": {
      "name": "python3",
      "display_name": "Python 3"
    },
    "language_info": {
      "name": "python"
    }
  },
  "cells": [
    {
      "cell_type": "code",
      "metadata": {
        "id": "aMOWokSp32Qv"
      },
      "source": [
        "import spacy\n",
        "from sklearn.preprocessing import LabelEncoder\n",
        "import numpy as np\n",
        "from sklearn.naive_bayes import GaussianNB\n",
        "from sklearn.model_selection import StratifiedKFold\n",
        "import time\n",
        "from sklearn.metrics import accuracy_score\n",
        "from pandas import DataFrame\n",
        "from sklearn.metrics import f1_score\n",
        "from sklearn.metrics import confusion_matrix\n",
        "import matplotlib.pyplot as plt\n",
        "from sklearn.metrics import classification_report\n",
        "from sklearn.metrics import plot_confusion_matrix\n"
      ],
      "execution_count": 1,
      "outputs": []
    },
    {
      "cell_type": "code",
      "metadata": {
        "colab": {
          "base_uri": "https://localhost:8080/"
        },
        "id": "7JoHkmFH5eX6",
        "outputId": "fcba919a-9ec8-41a0-a7d9-ed267cd2c513"
      },
      "source": [
        "# Reading the train txt file\n",
        "with open('./train.txt') as f:\n",
        "    input_txt=[word for line in f for word in line.split()]\n",
        "len(input_txt)\n",
        "\n",
        "# Saving words and IOB tags in different list\n",
        "words = []\n",
        "IOB=[]\n",
        "for i in range(0, len(input_txt),2):\n",
        "    words.append(input_txt[i])\n",
        "for j in range(1, len(input_txt),2):\n",
        "    IOB.append(input_txt[j])\n",
        "print('Total number of words in the corpus:', len(words))\n"
      ],
      "execution_count": 2,
      "outputs": [
        {
          "output_type": "stream",
          "name": "stdout",
          "text": [
            "Total number of words in the corpus: 62730\n"
          ]
        }
      ]
    },
    {
      "cell_type": "code",
      "metadata": {
        "colab": {
          "base_uri": "https://localhost:8080/",
          "height": 417
        },
        "id": "5bAqom8B5k_6",
        "outputId": "3af1f114-716e-4fba-a444-1f7aecbcf512"
      },
      "source": [
        "# Storing in DataFrame for EDA\n",
        "df = DataFrame()\n",
        "df['words'] = words\n",
        "df['IOB_tags'] = IOB\n",
        "df"
      ],
      "execution_count": 3,
      "outputs": [
        {
          "output_type": "execute_result",
          "data": {
            "text/html": [
              "<div>\n",
              "<style scoped>\n",
              "    .dataframe tbody tr th:only-of-type {\n",
              "        vertical-align: middle;\n",
              "    }\n",
              "\n",
              "    .dataframe tbody tr th {\n",
              "        vertical-align: top;\n",
              "    }\n",
              "\n",
              "    .dataframe thead th {\n",
              "        text-align: right;\n",
              "    }\n",
              "</style>\n",
              "<table border=\"1\" class=\"dataframe\">\n",
              "  <thead>\n",
              "    <tr style=\"text-align: right;\">\n",
              "      <th></th>\n",
              "      <th>words</th>\n",
              "      <th>IOB_tags</th>\n",
              "    </tr>\n",
              "  </thead>\n",
              "  <tbody>\n",
              "    <tr>\n",
              "      <th>0</th>\n",
              "      <td>@paulwalk</td>\n",
              "      <td>O</td>\n",
              "    </tr>\n",
              "    <tr>\n",
              "      <th>1</th>\n",
              "      <td>It</td>\n",
              "      <td>O</td>\n",
              "    </tr>\n",
              "    <tr>\n",
              "      <th>2</th>\n",
              "      <td>'s</td>\n",
              "      <td>O</td>\n",
              "    </tr>\n",
              "    <tr>\n",
              "      <th>3</th>\n",
              "      <td>the</td>\n",
              "      <td>O</td>\n",
              "    </tr>\n",
              "    <tr>\n",
              "      <th>4</th>\n",
              "      <td>view</td>\n",
              "      <td>O</td>\n",
              "    </tr>\n",
              "    <tr>\n",
              "      <th>...</th>\n",
              "      <td>...</td>\n",
              "      <td>...</td>\n",
              "    </tr>\n",
              "    <tr>\n",
              "      <th>62725</th>\n",
              "      <td>39</td>\n",
              "      <td>O</td>\n",
              "    </tr>\n",
              "    <tr>\n",
              "      <th>62726</th>\n",
              "      <td>GMT+0000</td>\n",
              "      <td>O</td>\n",
              "    </tr>\n",
              "    <tr>\n",
              "      <th>62727</th>\n",
              "      <td>(</td>\n",
              "      <td>O</td>\n",
              "    </tr>\n",
              "    <tr>\n",
              "      <th>62728</th>\n",
              "      <td>UTC</td>\n",
              "      <td>O</td>\n",
              "    </tr>\n",
              "    <tr>\n",
              "      <th>62729</th>\n",
              "      <td>)</td>\n",
              "      <td>O</td>\n",
              "    </tr>\n",
              "  </tbody>\n",
              "</table>\n",
              "<p>62730 rows × 2 columns</p>\n",
              "</div>"
            ],
            "text/plain": [
              "           words IOB_tags\n",
              "0      @paulwalk        O\n",
              "1             It        O\n",
              "2             's        O\n",
              "3            the        O\n",
              "4           view        O\n",
              "...          ...      ...\n",
              "62725         39        O\n",
              "62726   GMT+0000        O\n",
              "62727          (        O\n",
              "62728        UTC        O\n",
              "62729          )        O\n",
              "\n",
              "[62730 rows x 2 columns]"
            ]
          },
          "metadata": {},
          "execution_count": 3
        }
      ]
    },
    {
      "cell_type": "code",
      "metadata": {
        "colab": {
          "base_uri": "https://localhost:8080/",
          "height": 172
        },
        "id": "0UtW7fh35n2g",
        "outputId": "79ece05d-5875-4a1c-c7e0-7c421aff9aee"
      },
      "source": [
        "# using describe method\n",
        "df.describe()"
      ],
      "execution_count": 4,
      "outputs": [
        {
          "output_type": "execute_result",
          "data": {
            "text/html": [
              "<div>\n",
              "<style scoped>\n",
              "    .dataframe tbody tr th:only-of-type {\n",
              "        vertical-align: middle;\n",
              "    }\n",
              "\n",
              "    .dataframe tbody tr th {\n",
              "        vertical-align: top;\n",
              "    }\n",
              "\n",
              "    .dataframe thead th {\n",
              "        text-align: right;\n",
              "    }\n",
              "</style>\n",
              "<table border=\"1\" class=\"dataframe\">\n",
              "  <thead>\n",
              "    <tr style=\"text-align: right;\">\n",
              "      <th></th>\n",
              "      <th>words</th>\n",
              "      <th>IOB_tags</th>\n",
              "    </tr>\n",
              "  </thead>\n",
              "  <tbody>\n",
              "    <tr>\n",
              "      <th>count</th>\n",
              "      <td>62730</td>\n",
              "      <td>62730</td>\n",
              "    </tr>\n",
              "    <tr>\n",
              "      <th>unique</th>\n",
              "      <td>14878</td>\n",
              "      <td>13</td>\n",
              "    </tr>\n",
              "    <tr>\n",
              "      <th>top</th>\n",
              "      <td>.</td>\n",
              "      <td>O</td>\n",
              "    </tr>\n",
              "    <tr>\n",
              "      <th>freq</th>\n",
              "      <td>1936</td>\n",
              "      <td>59570</td>\n",
              "    </tr>\n",
              "  </tbody>\n",
              "</table>\n",
              "</div>"
            ],
            "text/plain": [
              "        words IOB_tags\n",
              "count   62730    62730\n",
              "unique  14878       13\n",
              "top         .        O\n",
              "freq     1936    59570"
            ]
          },
          "metadata": {},
          "execution_count": 4
        }
      ]
    },
    {
      "cell_type": "code",
      "metadata": {
        "colab": {
          "base_uri": "https://localhost:8080/"
        },
        "id": "pdSfYTbN5qcE",
        "outputId": "23a2e54d-eff9-44ad-af3e-81be62178e83"
      },
      "source": [
        "df['IOB_tags'].value_counts()"
      ],
      "execution_count": 5,
      "outputs": [
        {
          "output_type": "execute_result",
          "data": {
            "text/plain": [
              "O                  59570\n",
              "B-person             660\n",
              "B-location           548\n",
              "I-person             335\n",
              "B-group              264\n",
              "I-location           245\n",
              "B-corporation        221\n",
              "I-creative-work      206\n",
              "I-product            203\n",
              "I-group              150\n",
              "B-product            142\n",
              "B-creative-work      140\n",
              "I-corporation         46\n",
              "Name: IOB_tags, dtype: int64"
            ]
          },
          "metadata": {},
          "execution_count": 5
        }
      ]
    },
    {
      "cell_type": "markdown",
      "metadata": {
        "id": "rDV6uCvp5uTy"
      },
      "source": [
        "#### So, the dataset is not balanced, we can see that they are 13 classes with  'O' being the most prominent."
      ]
    },
    {
      "cell_type": "code",
      "metadata": {
        "colab": {
          "base_uri": "https://localhost:8080/"
        },
        "id": "-pvf-8SY5xr1",
        "outputId": "125b1ce2-4285-412d-ab8f-a7c12218966f"
      },
      "source": [
        "# transform words to vector by spacy inbuilt library\n",
        "# takes around 10 mins\n",
        "NLP = spacy.load(\"en\")\n",
        "\n",
        "def get_word_vector(word):\n",
        "    s = NLP(word)\n",
        "    return s.vector\n",
        "\n",
        "word_vector = []\n",
        "for i in range(len(words)):\n",
        "    word_vector.append(get_word_vector(words[i]))\n",
        "\n",
        "word_vect  = np.array(word_vector)\n",
        "word_vect.shape"
      ],
      "execution_count": 6,
      "outputs": [
        {
          "output_type": "execute_result",
          "data": {
            "text/plain": [
              "(62730, 96)"
            ]
          },
          "metadata": {},
          "execution_count": 6
        }
      ]
    },
    {
      "cell_type": "markdown",
      "metadata": {
        "id": "EUl39Fs657bI"
      },
      "source": [
        "#### Using Spacy library to convert the words into feature vector.<br>\n",
        "\n",
        "#### Each word is converted into (1,96) vector"
      ]
    },
    {
      "cell_type": "markdown",
      "metadata": {
        "id": "ayvDGlmo58pB"
      },
      "source": [
        "<b>Comment:<br>\n",
        "<b>Using Stratified k fold cross validation so that each split has equal percentage of classes.\n",
        "Using Naive Bayes-Gaussian to train model"
      ]
    },
    {
      "cell_type": "code",
      "metadata": {
        "colab": {
          "base_uri": "https://localhost:8080/"
        },
        "id": "tQzxhoDJ6Ap7",
        "outputId": "ee0fd09e-5d03-4fd8-a576-06717093f2d8"
      },
      "source": [
        "# Using Stratified k fold cross validation so that each split has equal percentage of classes.\n",
        "# Using Naive Bayes-Gaussian to train model\n",
        "\n",
        "skf = StratifiedKFold(n_splits=4, random_state=48, shuffle=True)\n",
        "accuracy=[] # list contains the accuracy for each fold\n",
        "n=1\n",
        "\n",
        "features = word_vect\n",
        "#y=df['IOB_tags_encoded']\n",
        "y = df['IOB_tags']\n",
        "for trn_idx, test_idx in skf.split(features, y):\n",
        "    start_time = time.time()\n",
        "    X_tr,X_val=features[trn_idx],features[test_idx]\n",
        "    y_tr,y_val=y.iloc[trn_idx],y.iloc[test_idx]\n",
        "    model = GaussianNB()\n",
        "\n",
        "    #model=MultinomialNB(alpha=0.5)\n",
        "    #model=svm.SVC(max_iter=1000)\n",
        "    model.fit(X_tr,y_tr)\n",
        "    y_pred = model.predict(X_val)\n",
        "\n",
        "    accuracy.append(accuracy_score(y_val, y_pred))\n",
        "    print('Time taken to run:',(time.time() - start_time)/60,'Validation Accuracy: ',accuracy[n-1])\n",
        "    n+=1"
      ],
      "execution_count": 7,
      "outputs": [
        {
          "output_type": "stream",
          "name": "stdout",
          "text": [
            "Time taken to run: 0.005433603127797445 Validation Accuracy:  0.7779761525218389\n",
            "Time taken to run: 0.005201005935668945 Validation Accuracy:  0.775808199961742\n",
            "Time taken to run: 0.00521173079808553 Validation Accuracy:  0.7865705904859074\n",
            "Time taken to run: 0.00504155158996582 Validation Accuracy:  0.7827445478892998\n"
          ]
        }
      ]
    },
    {
      "cell_type": "markdown",
      "metadata": {
        "id": "w_nehUuL6Fza"
      },
      "source": [
        "<b>So, we use Precision, Recall and F1 Score. We also print the Confusion Matrix"
      ]
    },
    {
      "cell_type": "code",
      "metadata": {
        "colab": {
          "base_uri": "https://localhost:8080/",
          "height": 1000
        },
        "id": "GCfIh3sI6Ecf",
        "outputId": "6d3fb4e5-39bc-494b-d3ca-df8fdf4ab049"
      },
      "source": [
        "fig, ax = plt.subplots(figsize=(10, 10))\n",
        "disp = plot_confusion_matrix(model,X_val,y_val,cmap=plt.cm.Blues,normalize='true',ax=ax,xticks_rotation='vertical')\n",
        "plt.show()\n",
        "\n",
        "# Classification report\n",
        "print(classification_report(y_val, y_pred))\n"
      ],
      "execution_count": 8,
      "outputs": [
        {
          "output_type": "stream",
          "name": "stderr",
          "text": [
            "/usr/local/lib/python3.7/dist-packages/sklearn/utils/deprecation.py:87: FutureWarning: Function plot_confusion_matrix is deprecated; Function `plot_confusion_matrix` is deprecated in 1.0 and will be removed in 1.2. Use one of the class methods: ConfusionMatrixDisplay.from_predictions or ConfusionMatrixDisplay.from_estimator.\n",
            "  warnings.warn(msg, category=FutureWarning)\n"
          ]
        },
        {
          "output_type": "display_data",
          "data": {
            "image/png": "[encoded data removed]",
            "text/plain": [
              "<Figure size 720x720 with 2 Axes>"
            ]
          },
          "metadata": {
            "needs_background": "light"
          }
        },
        {
          "output_type": "stream",
          "name": "stdout",
          "text": [
            "                 precision    recall  f1-score   support\n",
            "\n",
            "  B-corporation       0.09      0.29      0.14        56\n",
            "B-creative-work       0.02      0.14      0.03        35\n",
            "        B-group       0.04      0.15      0.06        66\n",
            "     B-location       0.07      0.12      0.09       137\n",
            "       B-person       0.12      0.64      0.20       165\n",
            "      B-product       0.04      0.11      0.06        35\n",
            "  I-corporation       0.00      0.00      0.00        12\n",
            "I-creative-work       0.03      0.06      0.04        51\n",
            "        I-group       0.01      0.05      0.02        37\n",
            "     I-location       0.03      0.31      0.06        61\n",
            "       I-person       0.05      0.08      0.06        84\n",
            "      I-product       0.01      0.04      0.01        51\n",
            "              O       0.99      0.81      0.89     14892\n",
            "\n",
            "       accuracy                           0.78     15682\n",
            "      macro avg       0.11      0.22      0.13     15682\n",
            "   weighted avg       0.94      0.78      0.85     15682\n",
            "\n"
          ]
        }
      ]
    },
    {
      "cell_type": "code",
      "metadata": {
        "colab": {
          "base_uri": "https://localhost:8080/"
        },
        "id": "VXLxY95E6Yj9",
        "outputId": "ada277e6-b165-43c4-f174-098033c75d6c"
      },
      "source": [
        "print('F1 score:',f1_score(y_val, y_pred, average='weighted'))"
      ],
      "execution_count": 9,
      "outputs": [
        {
          "output_type": "stream",
          "name": "stdout",
          "text": [
            "F1 score: 0.8517655058079655\n"
          ]
        }
      ]
    },
    {
      "cell_type": "markdown",
      "metadata": {
        "id": "WKwc_H_K6bcI"
      },
      "source": [
        "#### The F1 score of the model is 85.17%"
      ]
    },
    {
      "cell_type": "markdown",
      "metadata": {
        "id": "VmS6xQ5e6c7n"
      },
      "source": [
        "## Testing"
      ]
    },
    {
      "cell_type": "code",
      "metadata": {
        "colab": {
          "base_uri": "https://localhost:8080/"
        },
        "id": "eZ9MhZWK6exF",
        "outputId": "78465363-89fd-4c8a-f998-bf26214e8b95"
      },
      "source": [
        "# reading test file\n",
        "with open('./test.txt') as f:\n",
        "    test_txt=[word for line in f for word in line.split()]\n",
        "len(test_txt)\n",
        "\n",
        "test_words = []\n",
        "for i in range(0, len(test_txt),1):\n",
        "    test_words.append(test_txt[i])\n",
        "\n",
        "print('Total number of words in the test corpus:', len(test_words))\n"
      ],
      "execution_count": 10,
      "outputs": [
        {
          "output_type": "stream",
          "name": "stdout",
          "text": [
            "Total number of words in the test corpus: 23394\n"
          ]
        }
      ]
    },
    {
      "cell_type": "code",
      "metadata": {
        "colab": {
          "base_uri": "https://localhost:8080/"
        },
        "id": "QSxUYFlZ6nI-",
        "outputId": "8d1bf12c-7fa4-49e7-9b1c-382e9f934e7d"
      },
      "source": [
        "# transforming words to vector\n",
        "word_vector_test = []\n",
        "for i in range(len(test_words)):\n",
        "    word_vector_test.append(get_word_vector(test_words[i]))\n",
        "\n",
        "word_vect_test  = np.array(word_vector_test)\n",
        "word_vect_test.shape"
      ],
      "execution_count": 11,
      "outputs": [
        {
          "output_type": "execute_result",
          "data": {
            "text/plain": [
              "(23394, 96)"
            ]
          },
          "metadata": {},
          "execution_count": 11
        }
      ]
    },
    {
      "cell_type": "code",
      "metadata": {
        "colab": {
          "base_uri": "https://localhost:8080/"
        },
        "id": "vdFaNGhn6osz",
        "outputId": "8f407238-07cf-41ab-9de8-4df4d1686050"
      },
      "source": [
        "# evaluate and predict\n",
        "predicted_tag = model.predict(word_vect_test)\n",
        "print(predicted_tag)"
      ],
      "execution_count": 12,
      "outputs": [
        {
          "output_type": "stream",
          "name": "stdout",
          "text": [
            "['O' 'O' 'O' ... 'I-location' 'O' 'O']\n"
          ]
        }
      ]
    },
    {
      "cell_type": "code",
      "metadata": {
        "colab": {
          "base_uri": "https://localhost:8080/",
          "height": 417
        },
        "id": "Exf0lWTV6qnI",
        "outputId": "1c4ea221-5dc1-4080-cf82-c68de85a76f1"
      },
      "source": [
        "test_df = DataFrame()\n",
        "test_df['words'] = test_words\n",
        "# test_df['IOB_label Predicted'] = predicted_label\n",
        "test_df['IOB_tag Predicted'] = predicted_tag\n",
        "test_df"
      ],
      "execution_count": 13,
      "outputs": [
        {
          "output_type": "execute_result",
          "data": {
            "text/html": [
              "<div>\n",
              "<style scoped>\n",
              "    .dataframe tbody tr th:only-of-type {\n",
              "        vertical-align: middle;\n",
              "    }\n",
              "\n",
              "    .dataframe tbody tr th {\n",
              "        vertical-align: top;\n",
              "    }\n",
              "\n",
              "    .dataframe thead th {\n",
              "        text-align: right;\n",
              "    }\n",
              "</style>\n",
              "<table border=\"1\" class=\"dataframe\">\n",
              "  <thead>\n",
              "    <tr style=\"text-align: right;\">\n",
              "      <th></th>\n",
              "      <th>words</th>\n",
              "      <th>IOB_tag Predicted</th>\n",
              "    </tr>\n",
              "  </thead>\n",
              "  <tbody>\n",
              "    <tr>\n",
              "      <th>0</th>\n",
              "      <td>&amp;</td>\n",
              "      <td>O</td>\n",
              "    </tr>\n",
              "    <tr>\n",
              "      <th>1</th>\n",
              "      <td>gt</td>\n",
              "      <td>O</td>\n",
              "    </tr>\n",
              "    <tr>\n",
              "      <th>2</th>\n",
              "      <td>;</td>\n",
              "      <td>O</td>\n",
              "    </tr>\n",
              "    <tr>\n",
              "      <th>3</th>\n",
              "      <td>*</td>\n",
              "      <td>O</td>\n",
              "    </tr>\n",
              "    <tr>\n",
              "      <th>4</th>\n",
              "      <td>The</td>\n",
              "      <td>B-creative-work</td>\n",
              "    </tr>\n",
              "    <tr>\n",
              "      <th>...</th>\n",
              "      <td>...</td>\n",
              "      <td>...</td>\n",
              "    </tr>\n",
              "    <tr>\n",
              "      <th>23389</th>\n",
              "      <td>with</td>\n",
              "      <td>O</td>\n",
              "    </tr>\n",
              "    <tr>\n",
              "      <th>23390</th>\n",
              "      <td>this</td>\n",
              "      <td>O</td>\n",
              "    </tr>\n",
              "    <tr>\n",
              "      <th>23391</th>\n",
              "      <td>dress</td>\n",
              "      <td>I-location</td>\n",
              "    </tr>\n",
              "    <tr>\n",
              "      <th>23392</th>\n",
              "      <td>code</td>\n",
              "      <td>O</td>\n",
              "    </tr>\n",
              "    <tr>\n",
              "      <th>23393</th>\n",
              "      <td>😂</td>\n",
              "      <td>O</td>\n",
              "    </tr>\n",
              "  </tbody>\n",
              "</table>\n",
              "<p>23394 rows × 2 columns</p>\n",
              "</div>"
            ],
            "text/plain": [
              "       words IOB_tag Predicted\n",
              "0          &                 O\n",
              "1         gt                 O\n",
              "2          ;                 O\n",
              "3          *                 O\n",
              "4        The   B-creative-work\n",
              "...      ...               ...\n",
              "23389   with                 O\n",
              "23390   this                 O\n",
              "23391  dress        I-location\n",
              "23392   code                 O\n",
              "23393      😂                 O\n",
              "\n",
              "[23394 rows x 2 columns]"
            ]
          },
          "metadata": {},
          "execution_count": 13
        }
      ]
    },
    {
      "cell_type": "code",
      "metadata": {
        "colab": {
          "base_uri": "https://localhost:8080/"
        },
        "id": "8RCulDfV6sus",
        "outputId": "3eea869e-7325-4099-b1e8-af6729d0a137"
      },
      "source": [
        "test_df['IOB_tag Predicted'].value_counts()"
      ],
      "execution_count": 14,
      "outputs": [
        {
          "output_type": "execute_result",
          "data": {
            "text/plain": [
              "O                  18982\n",
              "B-person            1032\n",
              "I-location           887\n",
              "B-creative-work      360\n",
              "B-location           323\n",
              "B-group              321\n",
              "I-product            320\n",
              "I-group              257\n",
              "I-corporation        223\n",
              "I-person             221\n",
              "B-corporation        199\n",
              "I-creative-work      152\n",
              "B-product            117\n",
              "Name: IOB_tag Predicted, dtype: int64"
            ]
          },
          "metadata": {},
          "execution_count": 14
        }
      ]
    },
    {
      "cell_type": "code",
      "metadata": {
        "id": "wznHU9u-6us0"
      },
      "source": [
        "# saving those predictions with the words\n",
        "test_df.to_csv('output_spacy.csv',index=False)\n",
        "# drop ID col and then save txt\n",
        "#test_df.drop(labels='IOB_label Predicted', axis=1, inplace=True)\n",
        "test_df.to_csv('output_spacy.txt', header=None, index=None, sep='\\t', mode='a')"
      ],
      "execution_count": 15,
      "outputs": []
    }
  ]
}